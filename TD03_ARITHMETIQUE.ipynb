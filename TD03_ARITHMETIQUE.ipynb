{
 "cells": [
  {
   "cell_type": "markdown",
   "metadata": {},
   "source": [
    "# **TD03 - Arithmétique**\n",
    "\n",
    "On peut maintenant passer au troisième TD, avec désormais les boucles à disposition (en plus des affectations, des conditions, des saisies, des sorties, des affichages, ...) !"
   ]
  },
  {
   "cell_type": "markdown",
   "metadata": {},
   "source": [
    "# Le cadre\n",
    "\n",
    "On s'intéresse aux propriétés des nombres entiers positifs.\n",
    "\n",
    "On note $n$ un entier positif (non nul), et on donne les définitions suivantes :\n",
    "* on dit que $k$ (entier non nul) divise $n$ si le reste de la division euclidienne de $n$ par $k$ vaut 0 ;\n",
    "* on dit que $n$ est premier si il admet exactement deux diviseurs distincts ($1$ et lui-même) ;\n",
    "* on dit que $n$ est parfait si la somme de ses diviseurs vaut exactement $2n$.\n",
    "\n",
    "De ce fait, on **balaye** tous les entiers de 1 jusque $n$ et on teste l'éventuelle divisibilité de $n$ par ces entiers.\n",
    "\n",
    "Par exemple, l'entier $6$ est :\n",
    "* divisible par $1$, $2$, $3$ et $6$ ;\n",
    "* $1+2+3+6=12=2\\times6$;\n",
    "* ainsi $6$ est un entier parfait."
   ]
  },
  {
   "cell_type": "markdown",
   "metadata": {},
   "source": [
    "# Le travail à faire\n",
    "\n",
    "Vous devez créer un programme python qui :\n",
    "* demande à l'utlisateur un entier, et recommence (éventuellement) jusqu'à ce que ce soit un entier positif ;\n",
    "* compte et affiche le nombre de diviseurs, affiche les diviseurs et affiche également leur somme ;\n",
    "* teste si le nombre saisi en entrée est premier ou parfait et affiche un message le cas échéant.\n",
    "\n",
    "_Indications et consignes_ :\n",
    "* vous pouvez, si vous êtes à l'aise, utiliser un tableau (liste) pour stocker les diviseurs ;\n",
    "* commencer par réfléchir au fait de montrer, en Python, qu'un entier divise un autre (en revoyant éventuellement ce qui a déjà été précédemment) ;\n",
    "* essayer d'être rigoureux dans la présentation, les structures et les affichages !\n",
    "\n",
    "Le fichier sera à télécharger (si possible en version ipynb via **firefox**) et à déposer dans le répertoire TD03 du Serveur sous le nom TD03_NOM."
   ]
  },
  {
   "cell_type": "code",
   "execution_count": null,
   "metadata": {},
   "outputs": [],
   "source": [
    "#Algorithme TD03\n",
    "\n",
    "#saisie d'un entier n positif\n",
    "\n",
    "\n",
    "\n",
    "#travail sur les diviseurs\n",
    "\n",
    "\n",
    "\n",
    "#test si premier, parfait, ...\n",
    "\n"
   ]
  }
 ],
 "metadata": {
  "kernelspec": {
   "display_name": "Python 3",
   "language": "python",
   "name": "python3"
  },
  "language_info": {
   "codemirror_mode": {
    "name": "ipython",
    "version": 3
   },
   "file_extension": ".py",
   "mimetype": "text/x-python",
   "name": "python",
   "nbconvert_exporter": "python",
   "pygments_lexer": "ipython3",
   "version": "3.9.1"
  }
 },
 "nbformat": 4,
 "nbformat_minor": 4
}
