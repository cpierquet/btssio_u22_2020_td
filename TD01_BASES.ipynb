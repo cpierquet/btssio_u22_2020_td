{
 "cells": [
  {
   "cell_type": "markdown",
   "metadata": {},
   "source": [
    "# **TD01 - Bases et types**\n",
    "\n",
    "Vous voilà face à votre premier TD en version Jupyter !\n",
    "\n",
    "Comme présenté précédemment, il s'agit d'un fichier web dans lequel on peut faire cohabiter du texte, du code python...\n",
    "Vous êtes actuellement chacun sur une version d'un fichier source Jupyter, que vous pouvez (et devez) compléter comme bon vous le semble !"
   ]
  },
  {
   "cell_type": "markdown",
   "metadata": {},
   "source": [
    "# Quelques petites infos utiles\n",
    "\n",
    "Une feuille Jupyter est constituée de *cellules* qui peuvent être :\n",
    "- des cellules avec du text **mardown**\n",
    "- des cellules avec du **code** Python\n",
    "\n",
    "Pour évaluer une cellule, la *valider*, il faut appuyer sur SHIFT+ENTRÉE (la touche ENTRÉE, seule, permet de passer à la ligne !)\n",
    "\n",
    "* * *\n",
    "\n",
    "La barre d'outils, située en haut de la feuille Jupyter permet, entre autres, de  :\n",
    "\n",
    "![title](img/outils_jl.png)\n",
    "\n",
    "- d'enregistrer\n",
    "- d'insérer une cellule\n",
    "- d'exécuter une cellule\n",
    "- de modifier le type de cellule\n",
    "\n"
   ]
  },
  {
   "cell_type": "code",
   "execution_count": 1,
   "metadata": {},
   "outputs": [
    {
     "name": "stdout",
     "output_type": "stream",
     "text": [
      "5 10\n",
      "10 5\n"
     ]
    }
   ],
   "source": [
    "# Une première cellule python à exécuter\n",
    "A = 5\n",
    "B = 10\n",
    "print(A,B)\n",
    "A,B = B,A\n",
    "print(A,B)"
   ]
  },
  {
   "cell_type": "code",
   "execution_count": 2,
   "metadata": {},
   "outputs": [
    {
     "name": "stdin",
     "output_type": "stream",
     "text": [
      "Quel est votre âge ?  66\n"
     ]
    },
    {
     "name": "stdout",
     "output_type": "stream",
     "text": [
      "Dans 15 ans, vous aurez 81 ans\n"
     ]
    }
   ],
   "source": [
    "# Une seconde cellule python à exécuter\n",
    "age = int(input(\"Quel est votre âge ? \"))\n",
    "print(f\"Dans 15 ans, vous aurez {age+15} ans\")"
   ]
  },
  {
   "cell_type": "markdown",
   "metadata": {},
   "source": [
    "# Et maintenant il faut faire quoi ??\n",
    "\n",
    "Maintenant que tout est présenté, il ne vous reste plus qu'à résoudre les deux petits \"problèmes\" ci-après.\n",
    "\n",
    "Pour ce faire :\n",
    "- il faut compléter les cellules préparées (si besoin rajouter des lignes, etc)\n",
    "- une fois tout fini, il reste à enregistrer le fichier (sur Firefox c'est possible, sur les autres navigateurs à voir...) en faisant un clic-droit sur le fichier TD01_BASES.ipynb et en choisissant *Download*\n",
    "- si toutefois l'enregistrement n'est pas possible, on peut exporter : *File / Export As / Export Notebook to Executable Script*\n",
    "\n",
    "![title](img/download_jl.png)\n",
    "\n",
    "- le fichier téléchargé devra être renommé en *TD01_NOM.ipynb* (ou *TD01_NOM.py*) et sera déposé dans le répertoire *Devoirs\\U22\\TD01* du SERVEURSIO ou dans le répertoire *u22_td01* sur le site https://fichiers.cpierquet.fr."
   ]
  },
  {
   "cell_type": "markdown",
   "metadata": {},
   "source": [
    "# Premier exercice\n",
    "\n",
    "Ecrire une suite d'instructions qui calculent et affichent les valeurs du volume, de l'aire totale, et de la longueur totale des arêtes d'un parallélépipède rectangle, dont les dimensions (longueur, largeur, hauteur) seront données par l'utilisateur."
   ]
  },
  {
   "cell_type": "code",
   "execution_count": 3,
   "metadata": {},
   "outputs": [],
   "source": [
    "#Exercice 1 - Le parallélépipède rectangle\n",
    "\n"
   ]
  },
  {
   "cell_type": "markdown",
   "metadata": {},
   "source": [
    "# Second exercice\n",
    "\n",
    "Une épicerie vend de la farine à 1 euro le kilo, et des tablettes de chocolat à 2,5 euros. Écrire en Python un algorithme demandant à un client combien de kilos de farine (nombre réel) et combien de tablettes de chocolat (nombre entier) il désire, et affichant le prix à payer."
   ]
  },
  {
   "cell_type": "code",
   "execution_count": 4,
   "metadata": {},
   "outputs": [],
   "source": [
    "#Exercice 2 - À l'épicerie\n",
    "\n"
   ]
  },
  {
   "cell_type": "markdown",
   "metadata": {},
   "source": [
    "# Troisième exercice\n",
    "\n",
    "Une \"année-lumière\" est une unité de distance couramment utilisée en astronomie, définie comme la distance parcourue\n",
    "par la lumière en une année (365,25 jours), la vitesse de la lumière étant environ égale à 299 792 km par seconde.\n",
    "Écrire une suite d'instructions :\n",
    "* convertissant une année-lumière en kilomètres ;\n",
    "* convertissant un nombre entier (demandé à l'utilisateur) d'années-lumières en kilomètres."
   ]
  },
  {
   "cell_type": "code",
   "execution_count": 5,
   "metadata": {},
   "outputs": [],
   "source": [
    "#Exercice 3 - Conversion d'années-lumières\n",
    "\n"
   ]
  },
  {
   "cell_type": "code",
   "execution_count": null,
   "metadata": {},
   "outputs": [],
   "source": []
  }
 ],
 "metadata": {
  "kernelspec": {
   "display_name": "Python 3",
   "language": "python",
   "name": "python3"
  },
  "language_info": {
   "codemirror_mode": {
    "name": "ipython",
    "version": 3
   },
   "file_extension": ".py",
   "mimetype": "text/x-python",
   "name": "python",
   "nbconvert_exporter": "python",
   "pygments_lexer": "ipython3",
   "version": "3.8.5"
  }
 },
 "nbformat": 4,
 "nbformat_minor": 4
}
