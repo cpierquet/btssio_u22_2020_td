{
 "cells": [
  {
   "cell_type": "markdown",
   "metadata": {},
   "source": [
    "# **TD02 - Conditions**\n",
    "\n",
    "Maintenant au tour du deuxième TD, cette fois-ci sur les structures conditionnelles."
   ]
  },
  {
   "cell_type": "markdown",
   "metadata": {},
   "source": [
    "# Le cadre\n",
    "\n",
    "On s'intéresse aux différentes catégories d'âge en Athlétisme.\n",
    "\n",
    "![title](img/athle2020.png)\n"
   ]
  },
  {
   "cell_type": "markdown",
   "metadata": {},
   "source": [
    "# Le travail à faire\n",
    "\n",
    "Vous devez créer un programme python qui :\n",
    "* demande à l'utlisateur son prénom ;\n",
    "* demande à l'utilisateur son année de naissance ;\n",
    "* renvoie une phrase précisant prénom, année de naissance, catégorie, code de catégorie (y compris les codes spécifiques Masters).\n",
    "\n",
    "La sortie pourra ressembler à :\n",
    "\n",
    "<font color='red'>Bonjour, <_prénom_>, tu es né(e) en <_annee_>, tu es donc en catégorie <_catégorie_> (code <_code_>).</font>"
   ]
  },
  {
   "cell_type": "code",
   "execution_count": 4,
   "metadata": {},
   "outputs": [],
   "source": [
    "# Algorithme catégories Athlétisme\n",
    "\n"
   ]
  },
  {
   "cell_type": "markdown",
   "metadata": {},
   "source": [
    "# Bonus\n",
    "\n",
    "Vous pouvez essayer de modifier le programme précédent pour adapter la sortie en fonction du sexe de la personne :\n",
    "* ... tu es né...\n",
    "* ... tu es née..."
   ]
  },
  {
   "cell_type": "code",
   "execution_count": 3,
   "metadata": {},
   "outputs": [],
   "source": [
    "# Algorithme catégories Athlétisme v2\n",
    "\n"
   ]
  },
  {
   "cell_type": "code",
   "execution_count": null,
   "metadata": {},
   "outputs": [],
   "source": []
  }
 ],
 "metadata": {
  "kernelspec": {
   "display_name": "Python 3",
   "language": "python",
   "name": "python3"
  },
  "language_info": {
   "codemirror_mode": {
    "name": "ipython",
    "version": 3
   },
   "file_extension": ".py",
   "mimetype": "text/x-python",
   "name": "python",
   "nbconvert_exporter": "python",
   "pygments_lexer": "ipython3",
   "version": "3.9.0"
  }
 },
 "nbformat": 4,
 "nbformat_minor": 4
}
